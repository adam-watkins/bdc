{
 "cells": [
  {
   "cell_type": "code",
   "execution_count": 6,
   "metadata": {
    "collapsed": true,
    "pycharm": {
     "is_executing": false
    }
   },
   "outputs": [],
   "source": [
    "import pandas as pd"
   ]
  },
  {
   "cell_type": "code",
   "execution_count": 7,
   "outputs": [
    {
     "data": {
      "text/plain": "             Computed tomography  Magnetic resonance imaging  \\\ncountry                                                        \nAfghanistan                 0.20                        0.10   \nAlbania                     5.36                        1.58   \nAlgeria                      NaN                         NaN   \nAndorra                      NaN                         NaN   \nAngola                      0.42                        0.05   \n\n             Positron emission tomography  Gamma camera or nuclear medicine  \\\ncountry                                                                       \nAfghanistan                           0.0                               0.0   \nAlbania                               0.0                               0.0   \nAlgeria                               NaN                               NaN   \nAndorra                               NaN                               NaN   \nAngola                                0.0                               0.0   \n\n             Linear accelerator  Telecobalt unit  Radiotherapy  \ncountry                                                         \nAfghanistan                0.00             0.00          0.00  \nAlbania                    0.00             0.32          0.32  \nAlgeria                    0.18             0.26          0.43  \nAndorra                     NaN              NaN           NaN  \nAngola                     0.00             0.05          0.05  ",
      "text/html": "<div>\n<style scoped>\n    .dataframe tbody tr th:only-of-type {\n        vertical-align: middle;\n    }\n\n    .dataframe tbody tr th {\n        vertical-align: top;\n    }\n\n    .dataframe thead th {\n        text-align: right;\n    }\n</style>\n<table border=\"1\" class=\"dataframe\">\n  <thead>\n    <tr style=\"text-align: right;\">\n      <th></th>\n      <th>Computed tomography</th>\n      <th>Magnetic resonance imaging</th>\n      <th>Positron emission tomography</th>\n      <th>Gamma camera or nuclear medicine</th>\n      <th>Linear accelerator</th>\n      <th>Telecobalt unit</th>\n      <th>Radiotherapy</th>\n    </tr>\n    <tr>\n      <th>country</th>\n      <th></th>\n      <th></th>\n      <th></th>\n      <th></th>\n      <th></th>\n      <th></th>\n      <th></th>\n    </tr>\n  </thead>\n  <tbody>\n    <tr>\n      <th>Afghanistan</th>\n      <td>0.20</td>\n      <td>0.10</td>\n      <td>0.0</td>\n      <td>0.0</td>\n      <td>0.00</td>\n      <td>0.00</td>\n      <td>0.00</td>\n    </tr>\n    <tr>\n      <th>Albania</th>\n      <td>5.36</td>\n      <td>1.58</td>\n      <td>0.0</td>\n      <td>0.0</td>\n      <td>0.00</td>\n      <td>0.32</td>\n      <td>0.32</td>\n    </tr>\n    <tr>\n      <th>Algeria</th>\n      <td>NaN</td>\n      <td>NaN</td>\n      <td>NaN</td>\n      <td>NaN</td>\n      <td>0.18</td>\n      <td>0.26</td>\n      <td>0.43</td>\n    </tr>\n    <tr>\n      <th>Andorra</th>\n      <td>NaN</td>\n      <td>NaN</td>\n      <td>NaN</td>\n      <td>NaN</td>\n      <td>NaN</td>\n      <td>NaN</td>\n      <td>NaN</td>\n    </tr>\n    <tr>\n      <th>Angola</th>\n      <td>0.42</td>\n      <td>0.05</td>\n      <td>0.0</td>\n      <td>0.0</td>\n      <td>0.00</td>\n      <td>0.05</td>\n      <td>0.05</td>\n    </tr>\n  </tbody>\n</table>\n</div>"
     },
     "metadata": {},
     "output_type": "execute_result",
     "execution_count": 7
    }
   ],
   "source": [
    "master = pd.read_csv('medical_imaging_modalities_by_country.csv', index_col='country')\n",
    "master.head()"
   ],
   "metadata": {
    "collapsed": false,
    "pycharm": {
     "name": "#%%\n",
     "is_executing": false
    }
   }
  },
  {
   "cell_type": "code",
   "execution_count": 8,
   "outputs": [
    {
     "data": {
      "text/plain": "             Computed tomography  Magnetic resonance imaging  \\\ncountry                                                        \nAfghanistan                 0.20                        0.10   \nAlbania                     5.36                        1.58   \nAlgeria                      NaN                         NaN   \nAndorra                      NaN                         NaN   \nAngola                      0.42                        0.05   \n\n             Positron emission tomography  Gamma camera or nuclear medicine  \\\ncountry                                                                       \nAfghanistan                           0.0                               0.0   \nAlbania                               0.0                               0.0   \nAlgeria                               NaN                               NaN   \nAndorra                               NaN                               NaN   \nAngola                                0.0                               0.0   \n\n             Linear accelerator  Telecobalt unit  Radiotherapy  \\\ncountry                                                          \nAfghanistan                0.00             0.00          0.00   \nAlbania                    0.00             0.32          0.32   \nAlgeria                    0.18             0.26          0.43   \nAndorra                     NaN              NaN           NaN   \nAngola                     0.00             0.05          0.05   \n\n             Registered Labs  Labs with clinical tests  \\\ncountry                                                  \nAfghanistan              NaN                       NaN   \nAlbania                  NaN                       NaN   \nAlgeria                  NaN                       NaN   \nAndorra                  NaN                       NaN   \nAngola                   NaN                       NaN   \n\n             Labs with research tests  \ncountry                                \nAfghanistan                       NaN  \nAlbania                           NaN  \nAlgeria                           NaN  \nAndorra                           NaN  \nAngola                            NaN  ",
      "text/html": "<div>\n<style scoped>\n    .dataframe tbody tr th:only-of-type {\n        vertical-align: middle;\n    }\n\n    .dataframe tbody tr th {\n        vertical-align: top;\n    }\n\n    .dataframe thead th {\n        text-align: right;\n    }\n</style>\n<table border=\"1\" class=\"dataframe\">\n  <thead>\n    <tr style=\"text-align: right;\">\n      <th></th>\n      <th>Computed tomography</th>\n      <th>Magnetic resonance imaging</th>\n      <th>Positron emission tomography</th>\n      <th>Gamma camera or nuclear medicine</th>\n      <th>Linear accelerator</th>\n      <th>Telecobalt unit</th>\n      <th>Radiotherapy</th>\n      <th>Registered Labs</th>\n      <th>Labs with clinical tests</th>\n      <th>Labs with research tests</th>\n    </tr>\n    <tr>\n      <th>country</th>\n      <th></th>\n      <th></th>\n      <th></th>\n      <th></th>\n      <th></th>\n      <th></th>\n      <th></th>\n      <th></th>\n      <th></th>\n      <th></th>\n    </tr>\n  </thead>\n  <tbody>\n    <tr>\n      <th>Afghanistan</th>\n      <td>0.20</td>\n      <td>0.10</td>\n      <td>0.0</td>\n      <td>0.0</td>\n      <td>0.00</td>\n      <td>0.00</td>\n      <td>0.00</td>\n      <td>NaN</td>\n      <td>NaN</td>\n      <td>NaN</td>\n    </tr>\n    <tr>\n      <th>Albania</th>\n      <td>5.36</td>\n      <td>1.58</td>\n      <td>0.0</td>\n      <td>0.0</td>\n      <td>0.00</td>\n      <td>0.32</td>\n      <td>0.32</td>\n      <td>NaN</td>\n      <td>NaN</td>\n      <td>NaN</td>\n    </tr>\n    <tr>\n      <th>Algeria</th>\n      <td>NaN</td>\n      <td>NaN</td>\n      <td>NaN</td>\n      <td>NaN</td>\n      <td>0.18</td>\n      <td>0.26</td>\n      <td>0.43</td>\n      <td>NaN</td>\n      <td>NaN</td>\n      <td>NaN</td>\n    </tr>\n    <tr>\n      <th>Andorra</th>\n      <td>NaN</td>\n      <td>NaN</td>\n      <td>NaN</td>\n      <td>NaN</td>\n      <td>NaN</td>\n      <td>NaN</td>\n      <td>NaN</td>\n      <td>NaN</td>\n      <td>NaN</td>\n      <td>NaN</td>\n    </tr>\n    <tr>\n      <th>Angola</th>\n      <td>0.42</td>\n      <td>0.05</td>\n      <td>0.0</td>\n      <td>0.0</td>\n      <td>0.00</td>\n      <td>0.05</td>\n      <td>0.05</td>\n      <td>NaN</td>\n      <td>NaN</td>\n      <td>NaN</td>\n    </tr>\n  </tbody>\n</table>\n</div>"
     },
     "metadata": {},
     "output_type": "execute_result",
     "execution_count": 8
    }
   ],
   "source": [
    "df = pd.read_csv('lab.csv', index_col='country')\n",
    "master =  master.join(df)\n",
    "master.head()"
   ],
   "metadata": {
    "collapsed": false,
    "pycharm": {
     "name": "#%%\n",
     "is_executing": false
    }
   }
  },
  {
   "cell_type": "code",
   "execution_count": 9,
   "outputs": [
    {
     "data": {
      "text/plain": "             Computed tomography  Magnetic resonance imaging  \\\ncountry                                                        \nAfghanistan                 0.20                        0.10   \nAlbania                     5.36                        1.58   \nAlgeria                      NaN                         NaN   \nAndorra                      NaN                         NaN   \nAngola                      0.42                        0.05   \n\n             Positron emission tomography  Gamma camera or nuclear medicine  \\\ncountry                                                                       \nAfghanistan                           0.0                               0.0   \nAlbania                               0.0                               0.0   \nAlgeria                               NaN                               NaN   \nAndorra                               NaN                               NaN   \nAngola                                0.0                               0.0   \n\n             Linear accelerator  Telecobalt unit  Radiotherapy  \\\ncountry                                                          \nAfghanistan                0.00             0.00          0.00   \nAlbania                    0.00             0.32          0.32   \nAlgeria                    0.18             0.26          0.43   \nAndorra                     NaN              NaN           NaN   \nAngola                     0.00             0.05          0.05   \n\n             Registered Labs  Labs with clinical tests  \\\ncountry                                                  \nAfghanistan              NaN                       NaN   \nAlbania                  NaN                       NaN   \nAlgeria                  NaN                       NaN   \nAndorra                  NaN                       NaN   \nAngola                   NaN                       NaN   \n\n             Labs with research tests  \\\ncountry                                 \nAfghanistan                       NaN   \nAlbania                           NaN   \nAlgeria                           NaN   \nAndorra                           NaN   \nAngola                            NaN   \n\n            General Male Cancer Mortality (15+) per 100k  \\\ncountry                                                    \nAfghanistan                                        170.6   \nAlbania                                            186.4   \nAlgeria                                            100.7   \nAndorra                                          No data   \nAngola                                             112.5   \n\n            General Female Cancer Mortality (15+) per 100k  \ncountry                                                     \nAfghanistan                                            142  \nAlbania                                              138.2  \nAlgeria                                               97.3  \nAndorra                                            No data  \nAngola                                                90.9  ",
      "text/html": "<div>\n<style scoped>\n    .dataframe tbody tr th:only-of-type {\n        vertical-align: middle;\n    }\n\n    .dataframe tbody tr th {\n        vertical-align: top;\n    }\n\n    .dataframe thead th {\n        text-align: right;\n    }\n</style>\n<table border=\"1\" class=\"dataframe\">\n  <thead>\n    <tr style=\"text-align: right;\">\n      <th></th>\n      <th>Computed tomography</th>\n      <th>Magnetic resonance imaging</th>\n      <th>Positron emission tomography</th>\n      <th>Gamma camera or nuclear medicine</th>\n      <th>Linear accelerator</th>\n      <th>Telecobalt unit</th>\n      <th>Radiotherapy</th>\n      <th>Registered Labs</th>\n      <th>Labs with clinical tests</th>\n      <th>Labs with research tests</th>\n      <th>General Male Cancer Mortality (15+) per 100k</th>\n      <th>General Female Cancer Mortality (15+) per 100k</th>\n    </tr>\n    <tr>\n      <th>country</th>\n      <th></th>\n      <th></th>\n      <th></th>\n      <th></th>\n      <th></th>\n      <th></th>\n      <th></th>\n      <th></th>\n      <th></th>\n      <th></th>\n      <th></th>\n      <th></th>\n    </tr>\n  </thead>\n  <tbody>\n    <tr>\n      <th>Afghanistan</th>\n      <td>0.20</td>\n      <td>0.10</td>\n      <td>0.0</td>\n      <td>0.0</td>\n      <td>0.00</td>\n      <td>0.00</td>\n      <td>0.00</td>\n      <td>NaN</td>\n      <td>NaN</td>\n      <td>NaN</td>\n      <td>170.6</td>\n      <td>142</td>\n    </tr>\n    <tr>\n      <th>Albania</th>\n      <td>5.36</td>\n      <td>1.58</td>\n      <td>0.0</td>\n      <td>0.0</td>\n      <td>0.00</td>\n      <td>0.32</td>\n      <td>0.32</td>\n      <td>NaN</td>\n      <td>NaN</td>\n      <td>NaN</td>\n      <td>186.4</td>\n      <td>138.2</td>\n    </tr>\n    <tr>\n      <th>Algeria</th>\n      <td>NaN</td>\n      <td>NaN</td>\n      <td>NaN</td>\n      <td>NaN</td>\n      <td>0.18</td>\n      <td>0.26</td>\n      <td>0.43</td>\n      <td>NaN</td>\n      <td>NaN</td>\n      <td>NaN</td>\n      <td>100.7</td>\n      <td>97.3</td>\n    </tr>\n    <tr>\n      <th>Andorra</th>\n      <td>NaN</td>\n      <td>NaN</td>\n      <td>NaN</td>\n      <td>NaN</td>\n      <td>NaN</td>\n      <td>NaN</td>\n      <td>NaN</td>\n      <td>NaN</td>\n      <td>NaN</td>\n      <td>NaN</td>\n      <td>No data</td>\n      <td>No data</td>\n    </tr>\n    <tr>\n      <th>Angola</th>\n      <td>0.42</td>\n      <td>0.05</td>\n      <td>0.0</td>\n      <td>0.0</td>\n      <td>0.00</td>\n      <td>0.05</td>\n      <td>0.05</td>\n      <td>NaN</td>\n      <td>NaN</td>\n      <td>NaN</td>\n      <td>112.5</td>\n      <td>90.9</td>\n    </tr>\n  </tbody>\n</table>\n</div>"
     },
     "metadata": {},
     "output_type": "execute_result",
     "execution_count": 9
    }
   ],
   "source": [
    "df = pd.read_csv('general_cancer_mortality.csv', index_col='country')\n",
    "master =  master.join(df)\n",
    "master.head()"
   ],
   "metadata": {
    "collapsed": false,
    "pycharm": {
     "name": "#%%\n",
     "is_executing": false
    }
   }
  },
  {
   "cell_type": "code",
   "execution_count": 11,
   "outputs": [],
   "source": [
    "master.to_csv('not_by_year.csv')"
   ],
   "metadata": {
    "collapsed": false,
    "pycharm": {
     "name": "#%%\n",
     "is_executing": false
    }
   }
  }
 ],
 "metadata": {
  "kernelspec": {
   "display_name": "Python 3",
   "language": "python",
   "name": "python3"
  },
  "language_info": {
   "codemirror_mode": {
    "name": "ipython",
    "version": 2
   },
   "file_extension": ".py",
   "mimetype": "text/x-python",
   "name": "python",
   "nbconvert_exporter": "python",
   "pygments_lexer": "ipython2",
   "version": "2.7.6"
  },
  "pycharm": {
   "stem_cell": {
    "cell_type": "raw",
    "source": [],
    "metadata": {
     "collapsed": false
    }
   }
  }
 },
 "nbformat": 4,
 "nbformat_minor": 0
}