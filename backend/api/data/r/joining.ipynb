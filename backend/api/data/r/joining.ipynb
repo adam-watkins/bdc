{
 "cells": [
  {
   "cell_type": "code",
   "execution_count": 1,
   "metadata": {
    "collapsed": true,
    "pycharm": {
     "is_executing": false
    }
   },
   "outputs": [
    {
     "data": {
      "text/plain": "   Unnamed: 0      country  year  \\\n0           1  Afghanistan  2017   \n1           2  Afghanistan  2008   \n2           3  Afghanistan  2006   \n3           4  Afghanistan  2016   \n4           5  Afghanistan  2013   \n\n  Existence of operational policy/strategy/action plan for cancer  \\\n0                                                Yes                \n1                                                NaN                \n2                                                NaN                \n3                                                NaN                \n4                                                 No                \n\n  Existence of national screening program for breast cancer  \\\n0                                                 No          \n1                                                NaN          \n2                                                NaN          \n3                                                NaN          \n4                                                NaN          \n\n  Existence of national screening program for cervical cancer  \\\n0                                                 No            \n1                                                NaN            \n2                                                NaN            \n3                                                NaN            \n4                                                NaN            \n\n  Most widely used screening method in national cervical cancer screening program  \\\n0                                     Not applicable                                \n1                                                NaN                                \n2                                                NaN                                \n3                                                NaN                                \n4                                                NaN                                \n\n  Type of national cervical cancer screening program  \\\n0                                     Not applicable   \n1                                                NaN   \n2                                                NaN   \n3                                                NaN   \n4                                                NaN   \n\n  Coverage of national cervical cancer screening program (%)  \\\n0                                     Not applicable           \n1                                                NaN           \n2                                                NaN           \n3                                                NaN           \n4                                                NaN           \n\n  Existence of national HPV vaccination programme  \\\n0                                              No   \n1                                             NaN   \n2                                             NaN   \n3                                             NaN   \n4                                             NaN   \n\n   Current health expenditure (CHE) as percentage of gross domestic product (GDP) (%)  \\\n0                                               11.8                                    \n1                                               10.3                                    \n2                                               10.6                                    \n3                                               11.0                                    \n4                                                8.8                                    \n\n   Current health expenditure (CHE) per capita in PPP int$  \\\n0                                                NaN         \n1                                              127.6         \n2                                              111.3         \n3                                              174.7         \n4                                              164.2         \n\n   Current health expenditure (CHE) per capita in US$  \\\n0                                               67.1    \n1                                               38.7    \n2                                               28.4    \n3                                               61.5    \n4                                               56.0    \n\n   Out-of-pocket expenditure (OOP) per capita in PPP int$  \\\n0                                                NaN        \n1                                               96.2        \n2                                               85.5        \n3                                              132.8        \n4                                              118.3        \n\n   Out-of-pocket expenditure (OOP) per capita in US$ continent  \n0                                               50.7      Asia  \n1                                               29.2      Asia  \n2                                               21.8      Asia  \n3                                               46.7      Asia  \n4                                               40.3      Asia  ",
      "text/html": "<div>\n<style scoped>\n    .dataframe tbody tr th:only-of-type {\n        vertical-align: middle;\n    }\n\n    .dataframe tbody tr th {\n        vertical-align: top;\n    }\n\n    .dataframe thead th {\n        text-align: right;\n    }\n</style>\n<table border=\"1\" class=\"dataframe\">\n  <thead>\n    <tr style=\"text-align: right;\">\n      <th></th>\n      <th>Unnamed: 0</th>\n      <th>country</th>\n      <th>year</th>\n      <th>Existence of operational policy/strategy/action plan for cancer</th>\n      <th>Existence of national screening program for breast cancer</th>\n      <th>Existence of national screening program for cervical cancer</th>\n      <th>Most widely used screening method in national cervical cancer screening program</th>\n      <th>Type of national cervical cancer screening program</th>\n      <th>Coverage of national cervical cancer screening program (%)</th>\n      <th>Existence of national HPV vaccination programme</th>\n      <th>Current health expenditure (CHE) as percentage of gross domestic product (GDP) (%)</th>\n      <th>Current health expenditure (CHE) per capita in PPP int$</th>\n      <th>Current health expenditure (CHE) per capita in US$</th>\n      <th>Out-of-pocket expenditure (OOP) per capita in PPP int$</th>\n      <th>Out-of-pocket expenditure (OOP) per capita in US$</th>\n      <th>continent</th>\n    </tr>\n  </thead>\n  <tbody>\n    <tr>\n      <th>0</th>\n      <td>1</td>\n      <td>Afghanistan</td>\n      <td>2017</td>\n      <td>Yes</td>\n      <td>No</td>\n      <td>No</td>\n      <td>Not applicable</td>\n      <td>Not applicable</td>\n      <td>Not applicable</td>\n      <td>No</td>\n      <td>11.8</td>\n      <td>NaN</td>\n      <td>67.1</td>\n      <td>NaN</td>\n      <td>50.7</td>\n      <td>Asia</td>\n    </tr>\n    <tr>\n      <th>1</th>\n      <td>2</td>\n      <td>Afghanistan</td>\n      <td>2008</td>\n      <td>NaN</td>\n      <td>NaN</td>\n      <td>NaN</td>\n      <td>NaN</td>\n      <td>NaN</td>\n      <td>NaN</td>\n      <td>NaN</td>\n      <td>10.3</td>\n      <td>127.6</td>\n      <td>38.7</td>\n      <td>96.2</td>\n      <td>29.2</td>\n      <td>Asia</td>\n    </tr>\n    <tr>\n      <th>2</th>\n      <td>3</td>\n      <td>Afghanistan</td>\n      <td>2006</td>\n      <td>NaN</td>\n      <td>NaN</td>\n      <td>NaN</td>\n      <td>NaN</td>\n      <td>NaN</td>\n      <td>NaN</td>\n      <td>NaN</td>\n      <td>10.6</td>\n      <td>111.3</td>\n      <td>28.4</td>\n      <td>85.5</td>\n      <td>21.8</td>\n      <td>Asia</td>\n    </tr>\n    <tr>\n      <th>3</th>\n      <td>4</td>\n      <td>Afghanistan</td>\n      <td>2016</td>\n      <td>NaN</td>\n      <td>NaN</td>\n      <td>NaN</td>\n      <td>NaN</td>\n      <td>NaN</td>\n      <td>NaN</td>\n      <td>NaN</td>\n      <td>11.0</td>\n      <td>174.7</td>\n      <td>61.5</td>\n      <td>132.8</td>\n      <td>46.7</td>\n      <td>Asia</td>\n    </tr>\n    <tr>\n      <th>4</th>\n      <td>5</td>\n      <td>Afghanistan</td>\n      <td>2013</td>\n      <td>No</td>\n      <td>NaN</td>\n      <td>NaN</td>\n      <td>NaN</td>\n      <td>NaN</td>\n      <td>NaN</td>\n      <td>NaN</td>\n      <td>8.8</td>\n      <td>164.2</td>\n      <td>56.0</td>\n      <td>118.3</td>\n      <td>40.3</td>\n      <td>Asia</td>\n    </tr>\n  </tbody>\n</table>\n</div>"
     },
     "metadata": {},
     "output_type": "execute_result",
     "execution_count": 1
    }
   ],
   "source": [
    "import pandas as pd\n",
    "master = pd.read_csv('combined_WHO_continent.csv')\n",
    "master.head()"
   ]
  },
  {
   "cell_type": "markdown",
   "source": [
    "Multindex master"
   ],
   "metadata": {
    "collapsed": false
   }
  },
  {
   "cell_type": "code",
   "execution_count": 2,
   "outputs": [
    {
     "data": {
      "text/plain": "MultiIndex([('Afghanistan', '2017'),\n            ('Afghanistan', '2008'),\n            ('Afghanistan', '2006'),\n            ('Afghanistan', '2016'),\n            ('Afghanistan', '2013'),\n            ('Afghanistan', '2009'),\n            ('Afghanistan', '2005'),\n            ('Afghanistan', '2003'),\n            ('Afghanistan', '2004'),\n            ('Afghanistan', '2007'),\n            ...\n            (   'Zimbabwe', '2009'),\n            (   'Zimbabwe', '2010'),\n            (   'Zimbabwe', '2011'),\n            (   'Zimbabwe', '2012'),\n            (   'Zimbabwe', '2013'),\n            (   'Zimbabwe', '2014'),\n            (   'Zimbabwe', '2015'),\n            (   'Zimbabwe', '2016'),\n            (   'Zimbabwe', '2017'),\n            (   'Zimbabwe', '2019')],\n           names=['country', 'year'], length=3641)"
     },
     "metadata": {},
     "output_type": "execute_result",
     "execution_count": 2
    }
   ],
   "source": [
    "master['year'] = master['year'].astype(str)\n",
    "master = master.set_index(['country', 'year'])\n",
    "master = master.iloc[:, 3:]\n",
    "master.head()\n",
    "master.index"
   ],
   "metadata": {
    "collapsed": false,
    "pycharm": {
     "name": "#%%\n",
     "is_executing": false
    }
   }
  },
  {
   "cell_type": "code",
   "execution_count": 3,
   "outputs": [],
   "source": [
    "def stack_df(df, title):\n",
    "    df.index = df['country']\n",
    "    df.drop(columns='country', inplace=True)\n",
    "    df = df.stack().to_frame()\n",
    "    df.columns = [title]\n",
    "    df.index = df.index.set_names('year', level=1)\n",
    "    \n",
    "    return df\n",
    "        "
   ],
   "metadata": {
    "collapsed": false,
    "pycharm": {
     "name": "#%%\n",
     "is_executing": false
    }
   }
  },
  {
   "cell_type": "markdown",
   "source": [
    "Join breast"
   ],
   "metadata": {
    "collapsed": false
   }
  },
  {
   "cell_type": "code",
   "execution_count": 4,
   "outputs": [],
   "source": [
    "df = pd.read_csv('breast_cancer_new_cases_per_100000_women.csv')\n",
    "df = stack_df(df, title='Breast cancer new cases per 100k women')\n",
    "master = master.join(df)\n",
    "\n",
    "df = pd.read_csv('breast_cancer_deaths_per_100000_women.csv')\n",
    "df = stack_df(df, title='Breast cancer new deaths per 100k women')\n",
    "master = master.join(df)"
   ],
   "metadata": {
    "collapsed": false,
    "pycharm": {
     "name": "#%%\n",
     "is_executing": false
    }
   }
  },
  {
   "cell_type": "markdown",
   "source": [
    "Join prostate breast"
   ],
   "metadata": {
    "collapsed": false
   }
  },
  {
   "cell_type": "code",
   "execution_count": 5,
   "outputs": [],
   "source": [
    "df = pd.read_csv('prostate_cancer_new_cases_per_100000_men.csv')\n",
    "df = stack_df(df, title='Prostate cancer new cases per 100k men')\n",
    "master = master.join(df)\n",
    "\n",
    "df = pd.read_csv('prostate_cancer_deaths_per_100000_men.csv')\n",
    "df = stack_df(df, title='Prostate cancer new deaths per 100k men')\n",
    "master = master.join(df)"
   ],
   "metadata": {
    "collapsed": false,
    "pycharm": {
     "name": "#%%\n",
     "is_executing": false
    }
   }
  },
  {
   "cell_type": "code",
   "execution_count": 6,
   "outputs": [
    {
     "data": {
      "text/plain": "                 Existence of national screening program for cervical cancer  \\\ncountry     year                                                               \nAfghanistan 2017                                                 No            \n            2008                                                NaN            \n            2006                                                NaN            \n            2016                                                NaN            \n            2013                                                NaN            \n\n                 Most widely used screening method in national cervical cancer screening program  \\\ncountry     year                                                                                   \nAfghanistan 2017                                     Not applicable                                \n            2008                                                NaN                                \n            2006                                                NaN                                \n            2016                                                NaN                                \n            2013                                                NaN                                \n\n                 Type of national cervical cancer screening program  \\\ncountry     year                                                      \nAfghanistan 2017                                     Not applicable   \n            2008                                                NaN   \n            2006                                                NaN   \n            2016                                                NaN   \n            2013                                                NaN   \n\n                 Coverage of national cervical cancer screening program (%)  \\\ncountry     year                                                              \nAfghanistan 2017                                     Not applicable           \n            2008                                                NaN           \n            2006                                                NaN           \n            2016                                                NaN           \n            2013                                                NaN           \n\n                 Existence of national HPV vaccination programme  \\\ncountry     year                                                   \nAfghanistan 2017                                              No   \n            2008                                             NaN   \n            2006                                             NaN   \n            2016                                             NaN   \n            2013                                             NaN   \n\n                  Current health expenditure (CHE) as percentage of gross domestic product (GDP) (%)  \\\ncountry     year                                                                                       \nAfghanistan 2017                                               11.8                                    \n            2008                                               10.3                                    \n            2006                                               10.6                                    \n            2016                                               11.0                                    \n            2013                                                8.8                                    \n\n                  Current health expenditure (CHE) per capita in PPP int$  \\\ncountry     year                                                            \nAfghanistan 2017                                                NaN         \n            2008                                              127.6         \n            2006                                              111.3         \n            2016                                              174.7         \n            2013                                              164.2         \n\n                  Current health expenditure (CHE) per capita in US$  \\\ncountry     year                                                       \nAfghanistan 2017                                               67.1    \n            2008                                               38.7    \n            2006                                               28.4    \n            2016                                               61.5    \n            2013                                               56.0    \n\n                  Out-of-pocket expenditure (OOP) per capita in PPP int$  \\\ncountry     year                                                           \nAfghanistan 2017                                                NaN        \n            2008                                               96.2        \n            2006                                               85.5        \n            2016                                              132.8        \n            2013                                              118.3        \n\n                  Out-of-pocket expenditure (OOP) per capita in US$ continent  \\\ncountry     year                                                                \nAfghanistan 2017                                               50.7      Asia   \n            2008                                               29.2      Asia   \n            2006                                               21.8      Asia   \n            2016                                               46.7      Asia   \n            2013                                               40.3      Asia   \n\n                  Breast cancer new cases per 100k women  \\\ncountry     year                                           \nAfghanistan 2017                                     NaN   \n            2008                                    34.5   \n            2006                                    34.2   \n            2016                                    34.4   \n            2013                                    34.6   \n\n                  Breast cancer new deaths per 100k women  \\\ncountry     year                                            \nAfghanistan 2017                                      NaN   \n            2008                                     36.6   \n            2006                                     36.2   \n            2016                                     35.4   \n            2013                                     35.8   \n\n                  Prostate cancer new cases per 100k men  \\\ncountry     year                                           \nAfghanistan 2017                                     NaN   \n            2008                                    11.4   \n            2006                                    11.4   \n            2016                                    11.5   \n            2013                                    11.5   \n\n                  Prostate cancer new deaths per 100k men  \ncountry     year                                           \nAfghanistan 2017                                      NaN  \n            2008                                     14.3  \n            2006                                     14.2  \n            2016                                     14.4  \n            2013                                     14.3  ",
      "text/html": "<div>\n<style scoped>\n    .dataframe tbody tr th:only-of-type {\n        vertical-align: middle;\n    }\n\n    .dataframe tbody tr th {\n        vertical-align: top;\n    }\n\n    .dataframe thead th {\n        text-align: right;\n    }\n</style>\n<table border=\"1\" class=\"dataframe\">\n  <thead>\n    <tr style=\"text-align: right;\">\n      <th></th>\n      <th></th>\n      <th>Existence of national screening program for cervical cancer</th>\n      <th>Most widely used screening method in national cervical cancer screening program</th>\n      <th>Type of national cervical cancer screening program</th>\n      <th>Coverage of national cervical cancer screening program (%)</th>\n      <th>Existence of national HPV vaccination programme</th>\n      <th>Current health expenditure (CHE) as percentage of gross domestic product (GDP) (%)</th>\n      <th>Current health expenditure (CHE) per capita in PPP int$</th>\n      <th>Current health expenditure (CHE) per capita in US$</th>\n      <th>Out-of-pocket expenditure (OOP) per capita in PPP int$</th>\n      <th>Out-of-pocket expenditure (OOP) per capita in US$</th>\n      <th>continent</th>\n      <th>Breast cancer new cases per 100k women</th>\n      <th>Breast cancer new deaths per 100k women</th>\n      <th>Prostate cancer new cases per 100k men</th>\n      <th>Prostate cancer new deaths per 100k men</th>\n    </tr>\n    <tr>\n      <th>country</th>\n      <th>year</th>\n      <th></th>\n      <th></th>\n      <th></th>\n      <th></th>\n      <th></th>\n      <th></th>\n      <th></th>\n      <th></th>\n      <th></th>\n      <th></th>\n      <th></th>\n      <th></th>\n      <th></th>\n      <th></th>\n      <th></th>\n    </tr>\n  </thead>\n  <tbody>\n    <tr>\n      <th rowspan=\"5\" valign=\"top\">Afghanistan</th>\n      <th>2017</th>\n      <td>No</td>\n      <td>Not applicable</td>\n      <td>Not applicable</td>\n      <td>Not applicable</td>\n      <td>No</td>\n      <td>11.8</td>\n      <td>NaN</td>\n      <td>67.1</td>\n      <td>NaN</td>\n      <td>50.7</td>\n      <td>Asia</td>\n      <td>NaN</td>\n      <td>NaN</td>\n      <td>NaN</td>\n      <td>NaN</td>\n    </tr>\n    <tr>\n      <th>2008</th>\n      <td>NaN</td>\n      <td>NaN</td>\n      <td>NaN</td>\n      <td>NaN</td>\n      <td>NaN</td>\n      <td>10.3</td>\n      <td>127.6</td>\n      <td>38.7</td>\n      <td>96.2</td>\n      <td>29.2</td>\n      <td>Asia</td>\n      <td>34.5</td>\n      <td>36.6</td>\n      <td>11.4</td>\n      <td>14.3</td>\n    </tr>\n    <tr>\n      <th>2006</th>\n      <td>NaN</td>\n      <td>NaN</td>\n      <td>NaN</td>\n      <td>NaN</td>\n      <td>NaN</td>\n      <td>10.6</td>\n      <td>111.3</td>\n      <td>28.4</td>\n      <td>85.5</td>\n      <td>21.8</td>\n      <td>Asia</td>\n      <td>34.2</td>\n      <td>36.2</td>\n      <td>11.4</td>\n      <td>14.2</td>\n    </tr>\n    <tr>\n      <th>2016</th>\n      <td>NaN</td>\n      <td>NaN</td>\n      <td>NaN</td>\n      <td>NaN</td>\n      <td>NaN</td>\n      <td>11.0</td>\n      <td>174.7</td>\n      <td>61.5</td>\n      <td>132.8</td>\n      <td>46.7</td>\n      <td>Asia</td>\n      <td>34.4</td>\n      <td>35.4</td>\n      <td>11.5</td>\n      <td>14.4</td>\n    </tr>\n    <tr>\n      <th>2013</th>\n      <td>NaN</td>\n      <td>NaN</td>\n      <td>NaN</td>\n      <td>NaN</td>\n      <td>NaN</td>\n      <td>8.8</td>\n      <td>164.2</td>\n      <td>56.0</td>\n      <td>118.3</td>\n      <td>40.3</td>\n      <td>Asia</td>\n      <td>34.6</td>\n      <td>35.8</td>\n      <td>11.5</td>\n      <td>14.3</td>\n    </tr>\n  </tbody>\n</table>\n</div>"
     },
     "metadata": {},
     "output_type": "execute_result",
     "execution_count": 6
    }
   ],
   "source": [
    "master.to_csv('combined_WHO_prosdate_breast.csv')\n",
    "master.head()"
   ],
   "metadata": {
    "collapsed": false,
    "pycharm": {
     "name": "#%%\n",
     "is_executing": false
    }
   }
  }
 ],
 "metadata": {
  "kernelspec": {
   "display_name": "Python 3",
   "language": "python",
   "name": "python3"
  },
  "language_info": {
   "codemirror_mode": {
    "name": "ipython",
    "version": 2
   },
   "file_extension": ".py",
   "mimetype": "text/x-python",
   "name": "python",
   "nbconvert_exporter": "python",
   "pygments_lexer": "ipython2",
   "version": "2.7.6"
  },
  "pycharm": {
   "stem_cell": {
    "cell_type": "raw",
    "source": [],
    "metadata": {
     "collapsed": false
    }
   }
  }
 },
 "nbformat": 4,
 "nbformat_minor": 0
}